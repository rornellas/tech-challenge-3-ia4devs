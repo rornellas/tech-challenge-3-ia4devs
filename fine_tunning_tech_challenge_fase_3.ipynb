{
  "cells": [
    {
      "cell_type": "markdown",
      "metadata": {
        "id": "view-in-github",
        "colab_type": "text"
      },
      "source": [
        "<a href=\"https://colab.research.google.com/github/rornellas/tech-challenge-3-ia4devs/blob/main/fine_tunning_tech_challenge_fase_3.ipynb\" target=\"_parent\"><img src=\"https://colab.research.google.com/assets/colab-badge.svg\" alt=\"Open In Colab\"/></a>"
      ]
    },
    {
      "cell_type": "code",
      "execution_count": 2,
      "metadata": {
        "colab": {
          "base_uri": "https://localhost:8080/"
        },
        "id": "rszAxEbZOA43",
        "outputId": "7b736422-8d3d-433d-b2cd-f6988f08e7a4"
      },
      "outputs": [
        {
          "output_type": "stream",
          "name": "stdout",
          "text": [
            "Mounted at /content/drive\n"
          ]
        }
      ],
      "source": [
        "from google.colab import drive\n",
        "drive.mount('/content/drive')"
      ]
    },
    {
      "cell_type": "code",
      "source": [
        "!pip install -q \"unsloth[colab-new] @ git+https://github.com/unslothai/unsloth.git\"\n",
        "!pip install -q --no-deps xformers \"trl<0.9.0\" peft accelerate bitsandbytes\n",
        "!pip install -q transformers datasets\n",
        "!pip install -q triton"
      ],
      "metadata": {
        "id": "cQgaM80e8ATp",
        "colab": {
          "base_uri": "https://localhost:8080/"
        },
        "outputId": "ee345ccb-efaa-48b2-9964-b667811858cd"
      },
      "execution_count": 3,
      "outputs": [
        {
          "output_type": "stream",
          "name": "stdout",
          "text": [
            "  Installing build dependencies ... \u001b[?25l\u001b[?25hdone\n",
            "  Getting requirements to build wheel ... \u001b[?25l\u001b[?25hdone\n",
            "  Preparing metadata (pyproject.toml) ... \u001b[?25l\u001b[?25hdone\n",
            "\u001b[2K   \u001b[90m━━━━━━━━━━━━━━━━━━━━━━━━━━━━━━━━━━━━━━━━\u001b[0m \u001b[32m471.6/471.6 kB\u001b[0m \u001b[31m22.0 MB/s\u001b[0m eta \u001b[36m0:00:00\u001b[0m\n",
            "\u001b[2K   \u001b[90m━━━━━━━━━━━━━━━━━━━━━━━━━━━━━━━━━━━━━━━━\u001b[0m \u001b[32m3.6/3.6 MB\u001b[0m \u001b[31m56.2 MB/s\u001b[0m eta \u001b[36m0:00:00\u001b[0m\n",
            "\u001b[2K   \u001b[90m━━━━━━━━━━━━━━━━━━━━━━━━━━━━━━━━━━━━━━━━\u001b[0m \u001b[32m105.9/105.9 kB\u001b[0m \u001b[31m9.8 MB/s\u001b[0m eta \u001b[36m0:00:00\u001b[0m\n",
            "\u001b[2K   \u001b[90m━━━━━━━━━━━━━━━━━━━━━━━━━━━━━━━━━━━━━━━━\u001b[0m \u001b[32m116.3/116.3 kB\u001b[0m \u001b[31m11.0 MB/s\u001b[0m eta \u001b[36m0:00:00\u001b[0m\n",
            "\u001b[2K   \u001b[90m━━━━━━━━━━━━━━━━━━━━━━━━━━━━━━━━━━━━━━━━\u001b[0m \u001b[32m39.9/39.9 MB\u001b[0m \u001b[31m52.5 MB/s\u001b[0m eta \u001b[36m0:00:00\u001b[0m\n",
            "\u001b[2K   \u001b[90m━━━━━━━━━━━━━━━━━━━━━━━━━━━━━━━━━━━━━━━━\u001b[0m \u001b[32m134.8/134.8 kB\u001b[0m \u001b[31m12.6 MB/s\u001b[0m eta \u001b[36m0:00:00\u001b[0m\n",
            "\u001b[2K   \u001b[90m━━━━━━━━━━━━━━━━━━━━━━━━━━━━━━━━━━━━━━━━\u001b[0m \u001b[32m194.1/194.1 kB\u001b[0m \u001b[31m17.7 MB/s\u001b[0m eta \u001b[36m0:00:00\u001b[0m\n",
            "\u001b[?25h  Building wheel for unsloth (pyproject.toml) ... \u001b[?25l\u001b[?25hdone\n",
            "\u001b[31mERROR: pip's dependency resolver does not currently take into account all the packages that are installed. This behaviour is the source of the following dependency conflicts.\n",
            "cudf-cu12 24.4.1 requires pyarrow<15.0.0a0,>=14.0.1, but you have pyarrow 17.0.0 which is incompatible.\u001b[0m\u001b[31m\n",
            "\u001b[2K   \u001b[90m━━━━━━━━━━━━━━━━━━━━━━━━━━━━━━━━━━━━━━━━\u001b[0m \u001b[32m16.7/16.7 MB\u001b[0m \u001b[31m83.3 MB/s\u001b[0m eta \u001b[36m0:00:00\u001b[0m\n",
            "\u001b[2K   \u001b[90m━━━━━━━━━━━━━━━━━━━━━━━━━━━━━━━━━━━━━━━━\u001b[0m \u001b[32m245.2/245.2 kB\u001b[0m \u001b[31m22.1 MB/s\u001b[0m eta \u001b[36m0:00:00\u001b[0m\n",
            "\u001b[2K   \u001b[90m━━━━━━━━━━━━━━━━━━━━━━━━━━━━━━━━━━━━━━━━\u001b[0m \u001b[32m322.5/322.5 kB\u001b[0m \u001b[31m26.0 MB/s\u001b[0m eta \u001b[36m0:00:00\u001b[0m\n",
            "\u001b[2K   \u001b[90m━━━━━━━━━━━━━━━━━━━━━━━━━━━━━━━━━━━━━━━━\u001b[0m \u001b[32m122.4/122.4 MB\u001b[0m \u001b[31m11.1 MB/s\u001b[0m eta \u001b[36m0:00:00\u001b[0m\n",
            "\u001b[2K   \u001b[90m━━━━━━━━━━━━━━━━━━━━━━━━━━━━━━━━━━━━━━━━\u001b[0m \u001b[32m209.4/209.4 MB\u001b[0m \u001b[31m5.6 MB/s\u001b[0m eta \u001b[36m0:00:00\u001b[0m\n",
            "\u001b[?25h"
          ]
        }
      ]
    },
    {
      "cell_type": "markdown",
      "source": [
        "# Executando no COLAB utilizando GPU"
      ],
      "metadata": {
        "id": "XSaDsyKzYdrX"
      }
    },
    {
      "cell_type": "code",
      "source": [
        "from unsloth import FastLanguageModel\n",
        "import torch\n",
        "import json\n",
        "from datasets import load_dataset\n",
        "from trl import SFTTrainer\n",
        "from transformers import TrainingArguments\n",
        "\n",
        "#torch.cuda.is_available()"
      ],
      "metadata": {
        "id": "x34scJx7VTxP",
        "colab": {
          "base_uri": "https://localhost:8080/"
        },
        "outputId": "f553ac34-c6f1-4de5-d862-560c125512b7"
      },
      "execution_count": 1,
      "outputs": [
        {
          "output_type": "stream",
          "name": "stdout",
          "text": [
            "🦥 Unsloth: Will patch your computer to enable 2x faster free finetuning.\n"
          ]
        }
      ]
    },
    {
      "cell_type": "markdown",
      "source": [
        "# Processando arquivo de input"
      ],
      "metadata": {
        "id": "n3kKnkzgdFV8"
      }
    },
    {
      "cell_type": "code",
      "source": [
        "import json\n",
        "from itertools import islice\n",
        "\n",
        "# Carregar os dados\n",
        "with open('/content/drive/MyDrive/IA para devs - fiap/Fase 3/Tech Challenge/trn_first10000.json', 'r', encoding='utf-8') as f:\n",
        "    rows = [\n",
        "        {\n",
        "            'title': entry.get('title', ''),\n",
        "            'description': entry.get('content', '')\n",
        "        }\n",
        "        for entry in (json.loads(line) for line in islice(f, 200))\n",
        "        if len(entry.get('content', '')) > len(entry.get('title', ''))\n",
        "    ]\n",
        "\n",
        "#print(\"Tamanho rows1: \", rows1.__len__())\n",
        "\n",
        "#rows = [item for item in rows1 for _ in range(2)]\n",
        "\n",
        "print(\"Tamanho rows: \", rows.__len__())\n",
        "\n",
        "# Exibir a primeira entrada filtrada, se houver\n",
        "if rows:\n",
        "    print(json.dumps(rows[0], indent=4, ensure_ascii=False))\n",
        "else:\n",
        "    print(\"Nenhum registro corresponde ao critério.\")\n"
      ],
      "metadata": {
        "colab": {
          "base_uri": "https://localhost:8080/"
        },
        "id": "k6XjbHexdCu1",
        "outputId": "65f8af4b-966e-49e8-dcab-500507acd3ad"
      },
      "execution_count": 2,
      "outputs": [
        {
          "output_type": "stream",
          "name": "stdout",
          "text": [
            "Tamanho rows:  95\n",
            "{\n",
            "    \"title\": \"Girls Ballet Tutu Neon Pink\",\n",
            "    \"description\": \"High quality 3 layer ballet tutu. 12 inches in length\"\n",
            "}\n"
          ]
        }
      ]
    },
    {
      "cell_type": "markdown",
      "source": [
        "## Realizando limpeza\n",
        "\n",
        "A limpeza acaba não sendo necessária pois estamos utilizando o tokenizer para montar o treino e executar os prompts"
      ],
      "metadata": {
        "id": "q3RMkHmzICr8"
      }
    },
    {
      "cell_type": "code",
      "source": [
        "import re\n",
        "import nltk\n",
        "from nltk.corpus import stopwords\n",
        "from nltk.stem import WordNetLemmatizer\n",
        "from textblob import TextBlob\n",
        "import json\n",
        "import html\n",
        "\n",
        "# Baixar recursos do NLTK\n",
        "nltk.download('stopwords')\n",
        "nltk.download('punkt')\n",
        "nltk.download('wordnet')\n",
        "nltk.download('omw-1.4')\n",
        "nltk.download('brown')\n",
        "\n",
        "\n",
        "def normalize_text(text):\n",
        "    if isinstance(text, str):\n",
        "        text = text.lower()\n",
        "        text = re.sub(r'\\s+', ' ', text)\n",
        "        text = text.strip()\n",
        "    return text\n",
        "\n",
        "def remove_punctuation(text):\n",
        "    if isinstance(text, str):\n",
        "        text = re.sub(r'[^\\w\\s]', '', text)\n",
        "    return text\n",
        "\n",
        "stop_words = set(stopwords.words('english'))  # Ajuste para 'portuguese' se necessário\n",
        "\n",
        "def remove_stopwords(text):\n",
        "    if isinstance(text, str):\n",
        "        tokens = nltk.word_tokenize(text)\n",
        "        tokens = [word for word in tokens if word not in stop_words]\n",
        "        text = ' '.join(tokens)\n",
        "    return text\n",
        "\n",
        "lemmatizer = WordNetLemmatizer()\n",
        "\n",
        "def lemmatize_text(text):\n",
        "    if isinstance(text, str):\n",
        "        tokens = nltk.word_tokenize(text)\n",
        "        tokens = [lemmatizer.lemmatize(word) for word in tokens]\n",
        "        text = ' '.join(tokens)\n",
        "    return text\n",
        "\n",
        "#def correct_spelling(text):\n",
        "#    if isinstance(text, str):\n",
        "#        blob = TextBlob(text)\n",
        "#        corrected = str(blob.correct())\n",
        "#        return corrected\n",
        "#    return text\n",
        "\n",
        "def preprocessarDado(text):\n",
        "  text = html.unescape(text)\n",
        "  text = normalize_text(text)\n",
        "  #text = remove_punctuation(text)\n",
        "  #text = remove_stopwords(text)\n",
        "  #text = lemmatize_text(text)\n",
        "  return text\n",
        "\n"
      ],
      "metadata": {
        "colab": {
          "base_uri": "https://localhost:8080/"
        },
        "id": "LGD0xl8XRWkk",
        "outputId": "23447747-111c-4c32-d151-561ab39d6da0"
      },
      "execution_count": 3,
      "outputs": [
        {
          "output_type": "stream",
          "name": "stderr",
          "text": [
            "[nltk_data] Downloading package stopwords to /root/nltk_data...\n",
            "[nltk_data]   Package stopwords is already up-to-date!\n",
            "[nltk_data] Downloading package punkt to /root/nltk_data...\n",
            "[nltk_data]   Package punkt is already up-to-date!\n",
            "[nltk_data] Downloading package wordnet to /root/nltk_data...\n",
            "[nltk_data]   Package wordnet is already up-to-date!\n",
            "[nltk_data] Downloading package omw-1.4 to /root/nltk_data...\n",
            "[nltk_data]   Package omw-1.4 is already up-to-date!\n",
            "[nltk_data] Downloading package brown to /root/nltk_data...\n",
            "[nltk_data]   Package brown is already up-to-date!\n"
          ]
        }
      ]
    },
    {
      "cell_type": "code",
      "source": [
        "import pandas as pd\n",
        "\n",
        "df = pd.DataFrame(rows)\n",
        "\n",
        "# Remover duplicatas\n",
        "df = df.drop_duplicates(subset=['title', 'description'])\n",
        "\n",
        "df['title'] = df['title'].apply(preprocessarDado)\n",
        "df['description'] = df['description'].apply(preprocessarDado)\n",
        "\n",
        "# Remover entradas vazias\n",
        "df = df.dropna(subset=['title', 'description'])\n",
        "df = df[(df['title'].str.strip() != '') & (df['description'].str.strip() != '')]\n",
        "\n",
        "# Converter para array JSON atribuído a uma variável\n",
        "data = df.to_dict(orient='records')\n",
        "\n",
        "data[0]\n"
      ],
      "metadata": {
        "colab": {
          "base_uri": "https://localhost:8080/"
        },
        "id": "yo0OtMsbI8dS",
        "outputId": "1f3d950e-6c7a-4068-bbc8-32f9768e3733"
      },
      "execution_count": 4,
      "outputs": [
        {
          "output_type": "execute_result",
          "data": {
            "text/plain": [
              "{'title': 'girls ballet tutu neon pink',\n",
              " 'description': 'high quality 3 layer ballet tutu 12 inches length'}"
            ]
          },
          "metadata": {},
          "execution_count": 4
        }
      ]
    },
    {
      "cell_type": "markdown",
      "source": [
        "## Criando Modelo para Treinamento"
      ],
      "metadata": {
        "id": "uAeTduSrfgm1"
      }
    },
    {
      "cell_type": "code",
      "source": [
        "from unsloth import FastLanguageModel\n",
        "\n",
        "# Nome do modelo a ser utilizado\n",
        "model_name = \"unsloth/mistral-7b-instruct-v0.3-bnb-4bit\"\n",
        "max_seq_length = 2048\n",
        "dtype = None\n",
        "load_in_4bit = True"
      ],
      "metadata": {
        "id": "GNB_8lwkTWSF"
      },
      "execution_count": 5,
      "outputs": []
    },
    {
      "cell_type": "code",
      "source": [
        "import gc\n",
        "import torch\n",
        "\n",
        "try:\n",
        "    del model\n",
        "except:\n",
        "    pass\n",
        "\n",
        "try:\n",
        "    del tokenizer\n",
        "except:\n",
        "    pass\n",
        "\n",
        "gc.collect()\n",
        "torch.cuda.empty_cache()\n",
        "\n",
        "model, tokenizer = FastLanguageModel.from_pretrained(\n",
        "    model_name = model_name,\n",
        "    max_seq_length = max_seq_length,\n",
        "    dtype = dtype,\n",
        "    load_in_4bit = load_in_4bit,\n",
        ")"
      ],
      "metadata": {
        "colab": {
          "base_uri": "https://localhost:8080/"
        },
        "id": "CYJaHbZ2fgEa",
        "outputId": "e1eb1353-dff6-411c-ba4c-019f2da712e7"
      },
      "execution_count": 6,
      "outputs": [
        {
          "output_type": "stream",
          "name": "stdout",
          "text": [
            "==((====))==  Unsloth 2024.9.post4: Fast Mistral patching. Transformers = 4.44.2.\n",
            "   \\\\   /|    GPU: NVIDIA L4. Max memory: 22.168 GB. Platform = Linux.\n",
            "O^O/ \\_/ \\    Pytorch: 2.4.1+cu121. CUDA = 8.9. CUDA Toolkit = 12.1.\n",
            "\\        /    Bfloat16 = TRUE. FA [Xformers = 0.0.28.post1. FA2 = False]\n",
            " \"-____-\"     Free Apache license: http://github.com/unslothai/unsloth\n",
            "Unsloth: Fast downloading is enabled - ignore downloading bars which are red colored!\n"
          ]
        }
      ]
    },
    {
      "cell_type": "code",
      "source": [
        "prompt = \"\"\"Below is an instruction that describes a task, paired with an input that provides further context. Write a response that appropriately completes the request.\n",
        "\n",
        "### Instruction:\n",
        "Provide a response that provides more information about the input context. Keep the response to a single paragraph.\n",
        "\n",
        "### Input:\n",
        "{}\n",
        "\n",
        "### Response:\n",
        "{}\n",
        "\"\"\""
      ],
      "metadata": {
        "id": "qaPKgRY31CGb"
      },
      "execution_count": 7,
      "outputs": []
    },
    {
      "cell_type": "code",
      "source": [
        "#special_tokens = {'additional_special_tokens': ['<s>', '</s>', '[INST]', '[/INST]', '<<SYS>>', '<</SYS>>']}\n",
        "#tokenizer.add_special_tokens(special_tokens)\n",
        "\n",
        "def tokenize_function(examples):\n",
        "    return tokenizer(examples['text'], truncation=True, max_length=2048)\n",
        "pass\n",
        "\n",
        "def formatting_prompts_func(examples):\n",
        "    inputs       = examples[\"title\"]\n",
        "    outputs      = examples[\"description\"]\n",
        "    texts = []\n",
        "    for input, output in zip(inputs, outputs):\n",
        "        text = tokenizer.bos_token + prompt.format(input, output) + tokenizer.eos_token\n",
        "        texts.append(text)\n",
        "    return {\"text\": texts}\n",
        "pass\n",
        "\n",
        "from datasets import Dataset\n",
        "\n",
        "dataset = Dataset.from_list(data)\n",
        "dataset = dataset.map(formatting_prompts_func, batched = True,)"
      ],
      "metadata": {
        "colab": {
          "base_uri": "https://localhost:8080/",
          "height": 49,
          "referenced_widgets": [
            "44c8487fe0b6416a87d23416445d86fd",
            "6fcf2ddc91d247cdac4758a929d4bc16",
            "8f26943e0ca24baba30bc5e677122c32",
            "5c3c8f356d3b45b2bc38eb1df1e8f681",
            "3e95b58ab9c24bca886d077523d7cc89",
            "76aecf15232d4139945bb417f2b07e8e",
            "d224d70af25b40f9a6afd1bf879509e6",
            "72d85a131efe415a9297598545c9cf37",
            "eb888dc83eec434c9f57c63b04dbc1c2",
            "c8e22abfe678446c9cb9b26343fda1cf",
            "a7afe1077fda4ad892385f31390b3651"
          ]
        },
        "id": "XUyVSnJPtqXW",
        "outputId": "983e7a50-a758-4d0a-c452-dde543541c99"
      },
      "execution_count": 17,
      "outputs": [
        {
          "output_type": "display_data",
          "data": {
            "text/plain": [
              "Map:   0%|          | 0/95 [00:00<?, ? examples/s]"
            ],
            "application/vnd.jupyter.widget-view+json": {
              "version_major": 2,
              "version_minor": 0,
              "model_id": "44c8487fe0b6416a87d23416445d86fd"
            }
          },
          "metadata": {}
        }
      ]
    },
    {
      "cell_type": "code",
      "source": [
        "idx_example = 65\n",
        "\n",
        "# Dividindo o dataset em 80% treino e 20% validação\n",
        "#train_test_split = dataset.train_test_split(test_size=0.2, seed=42)\n",
        "\n",
        "# Separando em datasets de treino e validação\n",
        "#train_dataset = train_test_split['train']\n",
        "#eval_dataset = train_test_split['test']\n",
        "train_dataset = dataset\n",
        "print(train_dataset[idx_example])\n",
        "#print(\"\\n\")\n",
        "#print(eval_dataset[0])"
      ],
      "metadata": {
        "colab": {
          "base_uri": "https://localhost:8080/"
        },
        "id": "I1sRjUlyhOrI",
        "outputId": "0710e9c7-0eaa-4ffd-8619-689eba437808"
      },
      "execution_count": 18,
      "outputs": [
        {
          "output_type": "stream",
          "name": "stdout",
          "text": [
            "{'title': 'blood royal story spencers royals', 'description': 'lively superficial overview lives times princess dianas illustrious family 500 years tudor age present gaining losing vast fortunes making shrewd statusenhancing marriages jockeying social political power recurring themes family saga whose subjects rose wealthy farmers reign henry vii ranking among prosperous prominent families land 18th century see wealth status decline throughout victorian contemporary erasuntil diana third daughter eighth earl made fairytale marriage royal family including notables sarah churchill infamous 18thcentury duchess marlborough whose carefully calculated scheming made family one richest land spencer clan replete colorful characters princess diana drew strength ancestral heritage pearson claims undoubtable dubious however repeated assertions various facets dianas character direct inheritances one ancestor another suggestion biology destiny culminates propositionbased observation princes william harry look like mother fatherthat spencer genes superseded windsors instrumental shaping future british monarchy claim spencer family history yields vital insights destinies diana children seems somewhat overstated admire late princess wales drawn accounts english dynastic history find story spencers engrossing jancopyright 1999 reed business information inc', 'text': '<s>Below is an instruction that describes a task, paired with an input that provides further context. Write a response that appropriately completes the request.\\n\\n### Instruction:\\nProvide a response that provides more information about the input context. Keep the response to a single paragraph.\\n\\n### Input:\\nblood royal story spencers royals\\n\\n### Response:\\nlively superficial overview lives times princess dianas illustrious family 500 years tudor age present gaining losing vast fortunes making shrewd statusenhancing marriages jockeying social political power recurring themes family saga whose subjects rose wealthy farmers reign henry vii ranking among prosperous prominent families land 18th century see wealth status decline throughout victorian contemporary erasuntil diana third daughter eighth earl made fairytale marriage royal family including notables sarah churchill infamous 18thcentury duchess marlborough whose carefully calculated scheming made family one richest land spencer clan replete colorful characters princess diana drew strength ancestral heritage pearson claims undoubtable dubious however repeated assertions various facets dianas character direct inheritances one ancestor another suggestion biology destiny culminates propositionbased observation princes william harry look like mother fatherthat spencer genes superseded windsors instrumental shaping future british monarchy claim spencer family history yields vital insights destinies diana children seems somewhat overstated admire late princess wales drawn accounts english dynastic history find story spencers engrossing jancopyright 1999 reed business information inc\\n</s>'}\n"
          ]
        }
      ]
    },
    {
      "cell_type": "code",
      "source": [
        "model = FastLanguageModel.get_peft_model(\n",
        "    model,\n",
        "    r = 16,\n",
        "    target_modules = [\"q_proj\", \"k_proj\", \"v_proj\", \"o_proj\",\n",
        "                      \"gate_proj\", \"up_proj\", \"down_proj\",],\n",
        "    lora_alpha = 16,\n",
        "    lora_dropout = 0,\n",
        "    bias = \"none\",\n",
        "\n",
        "    use_gradient_checkpointing = \"unsloth\",\n",
        "    random_state = 3407,\n",
        "    use_rslora = False,\n",
        "    loftq_config = None,\n",
        ")"
      ],
      "metadata": {
        "colab": {
          "base_uri": "https://localhost:8080/"
        },
        "id": "GCm6k3Wjgq7m",
        "outputId": "7f90347b-9e63-42d2-a621-f0b32efd28a9"
      },
      "execution_count": 19,
      "outputs": [
        {
          "output_type": "stream",
          "name": "stderr",
          "text": [
            "Unsloth: Already have LoRA adapters! We shall skip this step.\n"
          ]
        }
      ]
    },
    {
      "cell_type": "code",
      "source": [
        "def runGPT(modelToRun, input, temperature=0.5, top_p=0.9):\n",
        "  FastLanguageModel.for_inference(modelToRun)\n",
        "  inputs = tokenizer(\n",
        "  [\n",
        "      prompt.format(\n",
        "          input,\n",
        "          \"\",\n",
        "      )\n",
        "  ], return_tensors = \"pt\").to(\"cuda\")\n",
        "\n",
        "  from transformers import TextStreamer\n",
        "  text_streamer = TextStreamer(tokenizer)\n",
        "  _ = modelToRun.generate(**inputs, streamer = text_streamer, max_new_tokens = 256, top_p = top_p, temperature = temperature)"
      ],
      "metadata": {
        "id": "L_lTh6JR5mCN"
      },
      "execution_count": 20,
      "outputs": []
    },
    {
      "cell_type": "markdown",
      "source": [
        "## Executando antes do treino"
      ],
      "metadata": {
        "id": "A7xMSWgl2QvH"
      }
    },
    {
      "cell_type": "code",
      "source": [
        "runGPT(model, train_dataset[idx_example]['title'])"
      ],
      "metadata": {
        "colab": {
          "base_uri": "https://localhost:8080/"
        },
        "id": "qaY74T7pjnDa",
        "outputId": "d82cd0ec-17a7-4234-a70c-204df5be7a0b"
      },
      "execution_count": 21,
      "outputs": [
        {
          "output_type": "stream",
          "name": "stdout",
          "text": [
            "<s> Below is an instruction that describes a task, paired with an input that provides further context. Write a response that appropriately completes the request.\n",
            "\n",
            "### Instruction:\n",
            "Provide a response that provides more information about the input context. Keep the response to a single paragraph.\n",
            "\n",
            "### Input:\n",
            "blood royal story spencers royals\n",
            "\n",
            "### Response:\n",
            "\n",
            "The \"Blood Royal Story: Spencers, Royals\" likely refers to a narrative that delves into the history and connection of the Spencer family, who are one of the most prominent British aristocratic families, and the British Royal Family. The Spencers have a significant link to the royals, as Charles, Prince of Wales, married Diana, Princess of Wales, who was a member of the Spencer family. This union brought the two families even closer, and the Spencer name has been associated with the British Royal Family ever since. The story would likely explore the history, traditions, and relationships between these two influential families.</s>\n"
          ]
        }
      ]
    },
    {
      "cell_type": "markdown",
      "source": [
        "### Descrição contida no dataset"
      ],
      "metadata": {
        "id": "qlBqWv7H2VIY"
      }
    },
    {
      "cell_type": "code",
      "source": [
        "train_dataset[idx_example]['description']"
      ],
      "metadata": {
        "colab": {
          "base_uri": "https://localhost:8080/",
          "height": 174
        },
        "id": "Av0EF8Pa12be",
        "outputId": "897f8955-3999-4444-b2a6-f70125359faa"
      },
      "execution_count": 22,
      "outputs": [
        {
          "output_type": "execute_result",
          "data": {
            "text/plain": [
              "'lively superficial overview lives times princess dianas illustrious family 500 years tudor age present gaining losing vast fortunes making shrewd statusenhancing marriages jockeying social political power recurring themes family saga whose subjects rose wealthy farmers reign henry vii ranking among prosperous prominent families land 18th century see wealth status decline throughout victorian contemporary erasuntil diana third daughter eighth earl made fairytale marriage royal family including notables sarah churchill infamous 18thcentury duchess marlborough whose carefully calculated scheming made family one richest land spencer clan replete colorful characters princess diana drew strength ancestral heritage pearson claims undoubtable dubious however repeated assertions various facets dianas character direct inheritances one ancestor another suggestion biology destiny culminates propositionbased observation princes william harry look like mother fatherthat spencer genes superseded windsors instrumental shaping future british monarchy claim spencer family history yields vital insights destinies diana children seems somewhat overstated admire late princess wales drawn accounts english dynastic history find story spencers engrossing jancopyright 1999 reed business information inc'"
            ],
            "application/vnd.google.colaboratory.intrinsic+json": {
              "type": "string"
            }
          },
          "metadata": {},
          "execution_count": 22
        }
      ]
    },
    {
      "cell_type": "code",
      "source": [
        "from transformers import TrainerCallback, TrainerControl, TrainerState\n",
        "\n",
        "class EarlyStoppingByLoss(TrainerCallback):\n",
        "    \"\"\"\n",
        "    Callback para parar o treinamento quando o training loss atinge um determinado limiar.\n",
        "    \"\"\"\n",
        "    def __init__(self, threshold: float):\n",
        "        \"\"\"\n",
        "        Args:\n",
        "            threshold (float): O valor da perda de treinamento para parar o treinamento.\n",
        "        \"\"\"\n",
        "        self.threshold = threshold\n",
        "\n",
        "    def on_log(self, args, state, control, logs=None, **kwargs):\n",
        "        if logs is None:\n",
        "            return\n",
        "\n",
        "        # Obtém a perda de treinamento\n",
        "        training_loss = logs.get(\"loss\")\n",
        "\n",
        "        if training_loss is not None:\n",
        "            #print(f\"Perda de treinamento atual: {training_loss}\")\n",
        "            if training_loss <= self.threshold:\n",
        "                print(f\"Perda de treinamento atingiu o limite de {self.threshold}. Parando o treinamento.\")\n",
        "                control.should_training_stop = True"
      ],
      "metadata": {
        "id": "-w0GP3NfiIZJ"
      },
      "execution_count": 23,
      "outputs": []
    },
    {
      "cell_type": "code",
      "source": [
        "base_location = \"/content/drive/MyDrive/IA para devs - fiap/Fase 3/Tech Challenge/20240930/\""
      ],
      "metadata": {
        "id": "ZbNac_8V9GSu"
      },
      "execution_count": 27,
      "outputs": []
    },
    {
      "cell_type": "code",
      "source": [
        "# a tentativa de treinar com um validation não estava dando um resultado muito legal...\n",
        "\n",
        "def criarSFTTrainer(datasetParam, epochs = 10, learningRate=3e-5, trainBatchsize=4, accumulationSteps=8, threshold=1, ):\n",
        "  return SFTTrainer(\n",
        "      model=model,\n",
        "      tokenizer=tokenizer,\n",
        "      train_dataset=datasetParam,  # Certifique-se de que o dataset foi carregado corretamente\n",
        "      #eval_dataset=eval_dataset,  # Certifique-se de que o dataset foi carregado corretamente\n",
        "      dataset_text_field=\"text\",\n",
        "      max_seq_length=max_seq_length,\n",
        "      dataset_num_proc=2,\n",
        "      packing=False,\n",
        "      callbacks=[EarlyStoppingByLoss(threshold=threshold)],\n",
        "      args=TrainingArguments(\n",
        "          output_dir=base_location+\"checkpoints\",        # Diretório para salvar checkpoints\n",
        "          save_steps=50,                    # Salvar a cada 500 steps\n",
        "          save_total_limit=5,\n",
        "          per_device_train_batch_size=trainBatchsize,  # Ajuste o batch size conforme a memória disponível\n",
        "          gradient_accumulation_steps=accumulationSteps,  # Gradiente acumulado para simular um batch maior\n",
        "          num_train_epochs = epochs,\n",
        "          #warmup_steps=15,  # Passos de aquecimento da taxa de aprendizado\n",
        "          #max_steps=maxSteps,  # Aumente o número de steps se necessário\n",
        "          learning_rate=learningRate,  # Taxa de aprendizado\n",
        "          fp16 = not torch.cuda.is_bf16_supported(),\n",
        "          bf16 = torch.cuda.is_bf16_supported(),# Usar BF16 se disponível (para A100)\n",
        "          logging_steps=2,  # Intervalo para logging\n",
        "          optim=\"adamw_8bit\",  # AdamW em 8 bits para otimizar memória\n",
        "          #optim=\"lion_8bit\",  # implementação nova baseada no adamw, com melhor performance e convergencia em determinados cenários\n",
        "          #aparentemente o lion consome menos memória, tem conversao mais estavel e treina mais rapido\n",
        "          weight_decay=0.1,  # Regularização\n",
        "          lr_scheduler_type=\"linear\",  # Scheduler linear para a taxa de aprendizado\n",
        "          seed=3407,  # Semente para reprodutibilidade\n",
        "          #evaluation_strategy=\"steps\",  # Avaliar a cada n steps\n",
        "          #eval_steps=10,  # Avaliar a cada 5 steps\n",
        "      ),\n",
        "  )"
      ],
      "metadata": {
        "id": "HrMb4CKxg_IP"
      },
      "execution_count": 28,
      "outputs": []
    },
    {
      "cell_type": "code",
      "source": [
        "try:\n",
        "    del trainer_stats\n",
        "except:\n",
        "    pass\n",
        "\n",
        "try:\n",
        "    del trainer\n",
        "except:\n",
        "    pass\n",
        "\n",
        "gc.collect()"
      ],
      "metadata": {
        "colab": {
          "base_uri": "https://localhost:8080/"
        },
        "id": "u5hc4XsZukKm",
        "outputId": "cec3b7b4-5389-44b9-9cb7-6a73a46de689"
      },
      "execution_count": 29,
      "outputs": [
        {
          "output_type": "execute_result",
          "data": {
            "text/plain": [
              "134"
            ]
          },
          "metadata": {},
          "execution_count": 29
        }
      ]
    },
    {
      "cell_type": "code",
      "source": [
        "trainer = criarSFTTrainer(train_dataset, 20, 2e-4, 4, 8, 1)"
      ],
      "metadata": {
        "colab": {
          "base_uri": "https://localhost:8080/",
          "height": 49,
          "referenced_widgets": [
            "2bc1ff6a05734bc986476be64c0d4e4d",
            "30864ec5aa064991a6663b464c7047d6",
            "c097c70118c144c49ffa1ec63f61fe0c",
            "8fa06eb07d9b41488fc656d3491d4df3",
            "cb70e240ef214197a769368ce90b0ca9",
            "e851d82f4a104f07b2e33d863eea775e",
            "a6922eaf6644486eb1295a499b5662af",
            "2479efc399c04446b2cf805f1c27de0d",
            "0b7d8ab208c242d583f042fc5942d90b",
            "5016ea48b39345338ef137ed3b597cee",
            "e679bb1e4af74b048c9c65f97151a9f4"
          ]
        },
        "id": "SR9E18eA_Pq-",
        "outputId": "ef16cc28-5bb5-4ae9-b956-95ddbc2046f7"
      },
      "execution_count": 30,
      "outputs": [
        {
          "output_type": "display_data",
          "data": {
            "text/plain": [
              "Map (num_proc=2):   0%|          | 0/95 [00:00<?, ? examples/s]"
            ],
            "application/vnd.jupyter.widget-view+json": {
              "version_major": 2,
              "version_minor": 0,
              "model_id": "2bc1ff6a05734bc986476be64c0d4e4d"
            }
          },
          "metadata": {}
        }
      ]
    },
    {
      "cell_type": "code",
      "source": [
        "trainer_stats = trainer.train()"
      ],
      "metadata": {
        "colab": {
          "base_uri": "https://localhost:8080/",
          "height": 587
        },
        "id": "D7wR50A28NTa",
        "outputId": "dba1a8c6-cc03-4db2-a511-feba02602f3c"
      },
      "execution_count": 31,
      "outputs": [
        {
          "output_type": "stream",
          "name": "stderr",
          "text": [
            "==((====))==  Unsloth - 2x faster free finetuning | Num GPUs = 1\n",
            "   \\\\   /|    Num examples = 95 | Num Epochs = 20\n",
            "O^O/ \\_/ \\    Batch size per device = 4 | Gradient Accumulation steps = 8\n",
            "\\        /    Total batch size = 32 | Total steps = 60\n",
            " \"-____-\"     Number of trainable parameters = 41,943,040\n"
          ]
        },
        {
          "output_type": "display_data",
          "data": {
            "text/plain": [
              "<IPython.core.display.HTML object>"
            ],
            "text/html": [
              "\n",
              "    <div>\n",
              "      \n",
              "      <progress value='26' max='60' style='width:300px; height:20px; vertical-align: middle;'></progress>\n",
              "      [26/60 03:03 < 04:19, 0.13 it/s, Epoch 8/20]\n",
              "    </div>\n",
              "    <table border=\"1\" class=\"dataframe\">\n",
              "  <thead>\n",
              " <tr style=\"text-align: left;\">\n",
              "      <th>Step</th>\n",
              "      <th>Training Loss</th>\n",
              "    </tr>\n",
              "  </thead>\n",
              "  <tbody>\n",
              "    <tr>\n",
              "      <td>2</td>\n",
              "      <td>4.407600</td>\n",
              "    </tr>\n",
              "    <tr>\n",
              "      <td>4</td>\n",
              "      <td>3.210300</td>\n",
              "    </tr>\n",
              "    <tr>\n",
              "      <td>6</td>\n",
              "      <td>2.815800</td>\n",
              "    </tr>\n",
              "    <tr>\n",
              "      <td>8</td>\n",
              "      <td>2.529200</td>\n",
              "    </tr>\n",
              "    <tr>\n",
              "      <td>10</td>\n",
              "      <td>2.338000</td>\n",
              "    </tr>\n",
              "    <tr>\n",
              "      <td>12</td>\n",
              "      <td>2.106000</td>\n",
              "    </tr>\n",
              "    <tr>\n",
              "      <td>14</td>\n",
              "      <td>1.883200</td>\n",
              "    </tr>\n",
              "    <tr>\n",
              "      <td>16</td>\n",
              "      <td>1.812600</td>\n",
              "    </tr>\n",
              "    <tr>\n",
              "      <td>18</td>\n",
              "      <td>1.635100</td>\n",
              "    </tr>\n",
              "    <tr>\n",
              "      <td>20</td>\n",
              "      <td>1.356900</td>\n",
              "    </tr>\n",
              "    <tr>\n",
              "      <td>22</td>\n",
              "      <td>1.258700</td>\n",
              "    </tr>\n",
              "    <tr>\n",
              "      <td>24</td>\n",
              "      <td>1.213000</td>\n",
              "    </tr>\n",
              "    <tr>\n",
              "      <td>26</td>\n",
              "      <td>0.962500</td>\n",
              "    </tr>\n",
              "  </tbody>\n",
              "</table><p>"
            ]
          },
          "metadata": {}
        },
        {
          "output_type": "stream",
          "name": "stdout",
          "text": [
            "Perda de treinamento atingiu o limite de 1. Parando o treinamento.\n"
          ]
        }
      ]
    },
    {
      "cell_type": "code",
      "source": [
        "import random\n",
        "\n",
        "idx = random.randint(0, len(train_dataset)-1)\n",
        "\n",
        "print(\"idx = \", idx)\n",
        "\n",
        "print(\"title: \"+train_dataset[idx]['title'])\n",
        "print(\"description: \"+train_dataset[idx]['description'])"
      ],
      "metadata": {
        "colab": {
          "base_uri": "https://localhost:8080/"
        },
        "id": "2RXBXYRWouXX",
        "outputId": "a24b7ab1-a569-4fbf-9c81-c41c350bc905"
      },
      "execution_count": 36,
      "outputs": [
        {
          "output_type": "stream",
          "name": "stdout",
          "text": [
            "idx =  16\n",
            "title: day life china\n",
            "description: ninety photographers 60 western 30 chinese fanned across china single dayapril 15 1989to take pictures make rare candid glimpse worlds populous nation photos show us villages farms take us homes schools factories kaleidoscope imagesriceplanting brigades defendant dock trial murder yaks main street one citywe get feel contradictions pressures modernizing society many photos exceptionally beautiful taken together reveal diversity vast country moving tentlike yurts mongolian nomads tantric buddhist monastery occupied tibet photoessay concludes glimpse protest posters went beijing university students began occupy tiananmen square tragically ironic conclusion light events followed first serial time author tourcopyright 1989 reed business information inc\n"
          ]
        }
      ]
    },
    {
      "cell_type": "code",
      "source": [
        "runGPT(model, train_dataset[idx]['title'])"
      ],
      "metadata": {
        "colab": {
          "base_uri": "https://localhost:8080/"
        },
        "id": "UnSR2Hr893cc",
        "outputId": "e17b750d-3a9d-436b-8f58-e225e6f5857f"
      },
      "execution_count": 37,
      "outputs": [
        {
          "output_type": "stream",
          "name": "stdout",
          "text": [
            "<s> Below is an instruction that describes a task, paired with an input that provides further context. Write a response that appropriately completes the request.\n",
            "\n",
            "### Instruction:\n",
            "Provide a response that provides more information about the input context. Keep the response to a single paragraph.\n",
            "\n",
            "### Input:\n",
            "day life china\n",
            "\n",
            "### Response:\n",
            "\n",
            "day life china\n",
            "\n",
            "a vivid portrait of contemporary china, this book offers a unique and intimate look at the daily lives of its people. from the bustling streets of beijing to the remote villages of yunnan, the author captures the essence of china in all its complexity and diversity. through a series of evocative photographs and insightful essays, the reader is transported to a world far removed from their own, yet one that is surprisingly familiar.\n",
            "\n",
            "the book begins with a journey through the ancient city of xi'an, where the author encounters the famous terracotta warriors and the bustling markets of the old city. from there, the journey continues to the modern metropolis of shanghai, where the author explores the city's iconic landmarks, such as the bund and the pearl tower.\n",
            "\n",
            "the author then travels to the countryside, where he meets the farmers who work the land and the villagers who live simple, traditional lives. he visits a school in a remote village, where the children are eager to learn and dream of a better future. the author also spends time with the monks of a Tibetan monastery, who live a life of contemplation and prayer\n"
          ]
        }
      ]
    },
    {
      "cell_type": "code",
      "source": [
        "runGPT(model, \"what do you know about \\\"el war\\\" mercenaries?\")"
      ],
      "metadata": {
        "id": "nAJq2HXF8ehC"
      },
      "execution_count": null,
      "outputs": []
    },
    {
      "cell_type": "code",
      "source": [
        "lora_model_dir = \"lora_model_mistral-instruct\""
      ],
      "metadata": {
        "id": "zeP0RxXVUSmG"
      },
      "execution_count": null,
      "outputs": []
    },
    {
      "cell_type": "code",
      "source": [
        "model.save_pretrained(base_location+\"trained_model/\"+lora_model_dir) # Local saving\n",
        "tokenizer.save_pretrained(base_location+\"trained_model/\"+lora_model_dir)\n"
      ],
      "metadata": {
        "id": "Eu2s3hvi8eYT"
      },
      "execution_count": null,
      "outputs": []
    },
    {
      "cell_type": "code",
      "source": [
        "def loadModel(model_dir):\n",
        "  if True:\n",
        "      from unsloth import FastLanguageModel\n",
        "      model, tokenizer = FastLanguageModel.from_pretrained(\n",
        "          model_name = model_dir,\n",
        "          max_seq_length = max_seq_length,\n",
        "          dtype = dtype,\n",
        "          load_in_4bit = load_in_4bit,\n",
        "      )\n",
        "      FastLanguageModel.for_inference(model)\n",
        "\n"
      ],
      "metadata": {
        "id": "AG_eoZ0l8eSO"
      },
      "execution_count": null,
      "outputs": []
    },
    {
      "cell_type": "code",
      "source": [
        "reloadedModel = loadModel(base_location+\"trained_model/\"+lora_model_dir)\n",
        "\n",
        "runGPT(reloadedModel, train_dataset[0]['title'])"
      ],
      "metadata": {
        "id": "KSA6rQd5E8WE"
      },
      "execution_count": null,
      "outputs": []
    },
    {
      "cell_type": "markdown",
      "source": [
        "## Retreinando um modelo já processado anteriormente"
      ],
      "metadata": {
        "id": "RK5EWvAqUrEm"
      }
    },
    {
      "cell_type": "code",
      "source": [
        "trainer_stats = treinar(model, 50, 4, 8).train()"
      ],
      "metadata": {
        "id": "WiaLPr4A1G5D"
      },
      "execution_count": null,
      "outputs": []
    }
  ],
  "metadata": {
    "accelerator": "GPU",
    "colab": {
      "gpuType": "L4",
      "provenance": [],
      "machine_shape": "hm",
      "include_colab_link": true
    },
    "kernelspec": {
      "display_name": "Python 3",
      "name": "python3"
    },
    "language_info": {
      "name": "python"
    },
    "widgets": {
      "application/vnd.jupyter.widget-state+json": {
        "44c8487fe0b6416a87d23416445d86fd": {
          "model_module": "@jupyter-widgets/controls",
          "model_name": "HBoxModel",
          "model_module_version": "1.5.0",
          "state": {
            "_dom_classes": [],
            "_model_module": "@jupyter-widgets/controls",
            "_model_module_version": "1.5.0",
            "_model_name": "HBoxModel",
            "_view_count": null,
            "_view_module": "@jupyter-widgets/controls",
            "_view_module_version": "1.5.0",
            "_view_name": "HBoxView",
            "box_style": "",
            "children": [
              "IPY_MODEL_6fcf2ddc91d247cdac4758a929d4bc16",
              "IPY_MODEL_8f26943e0ca24baba30bc5e677122c32",
              "IPY_MODEL_5c3c8f356d3b45b2bc38eb1df1e8f681"
            ],
            "layout": "IPY_MODEL_3e95b58ab9c24bca886d077523d7cc89"
          }
        },
        "6fcf2ddc91d247cdac4758a929d4bc16": {
          "model_module": "@jupyter-widgets/controls",
          "model_name": "HTMLModel",
          "model_module_version": "1.5.0",
          "state": {
            "_dom_classes": [],
            "_model_module": "@jupyter-widgets/controls",
            "_model_module_version": "1.5.0",
            "_model_name": "HTMLModel",
            "_view_count": null,
            "_view_module": "@jupyter-widgets/controls",
            "_view_module_version": "1.5.0",
            "_view_name": "HTMLView",
            "description": "",
            "description_tooltip": null,
            "layout": "IPY_MODEL_76aecf15232d4139945bb417f2b07e8e",
            "placeholder": "​",
            "style": "IPY_MODEL_d224d70af25b40f9a6afd1bf879509e6",
            "value": "Map: 100%"
          }
        },
        "8f26943e0ca24baba30bc5e677122c32": {
          "model_module": "@jupyter-widgets/controls",
          "model_name": "FloatProgressModel",
          "model_module_version": "1.5.0",
          "state": {
            "_dom_classes": [],
            "_model_module": "@jupyter-widgets/controls",
            "_model_module_version": "1.5.0",
            "_model_name": "FloatProgressModel",
            "_view_count": null,
            "_view_module": "@jupyter-widgets/controls",
            "_view_module_version": "1.5.0",
            "_view_name": "ProgressView",
            "bar_style": "success",
            "description": "",
            "description_tooltip": null,
            "layout": "IPY_MODEL_72d85a131efe415a9297598545c9cf37",
            "max": 95,
            "min": 0,
            "orientation": "horizontal",
            "style": "IPY_MODEL_eb888dc83eec434c9f57c63b04dbc1c2",
            "value": 95
          }
        },
        "5c3c8f356d3b45b2bc38eb1df1e8f681": {
          "model_module": "@jupyter-widgets/controls",
          "model_name": "HTMLModel",
          "model_module_version": "1.5.0",
          "state": {
            "_dom_classes": [],
            "_model_module": "@jupyter-widgets/controls",
            "_model_module_version": "1.5.0",
            "_model_name": "HTMLModel",
            "_view_count": null,
            "_view_module": "@jupyter-widgets/controls",
            "_view_module_version": "1.5.0",
            "_view_name": "HTMLView",
            "description": "",
            "description_tooltip": null,
            "layout": "IPY_MODEL_c8e22abfe678446c9cb9b26343fda1cf",
            "placeholder": "​",
            "style": "IPY_MODEL_a7afe1077fda4ad892385f31390b3651",
            "value": " 95/95 [00:00&lt;00:00, 5095.32 examples/s]"
          }
        },
        "3e95b58ab9c24bca886d077523d7cc89": {
          "model_module": "@jupyter-widgets/base",
          "model_name": "LayoutModel",
          "model_module_version": "1.2.0",
          "state": {
            "_model_module": "@jupyter-widgets/base",
            "_model_module_version": "1.2.0",
            "_model_name": "LayoutModel",
            "_view_count": null,
            "_view_module": "@jupyter-widgets/base",
            "_view_module_version": "1.2.0",
            "_view_name": "LayoutView",
            "align_content": null,
            "align_items": null,
            "align_self": null,
            "border": null,
            "bottom": null,
            "display": null,
            "flex": null,
            "flex_flow": null,
            "grid_area": null,
            "grid_auto_columns": null,
            "grid_auto_flow": null,
            "grid_auto_rows": null,
            "grid_column": null,
            "grid_gap": null,
            "grid_row": null,
            "grid_template_areas": null,
            "grid_template_columns": null,
            "grid_template_rows": null,
            "height": null,
            "justify_content": null,
            "justify_items": null,
            "left": null,
            "margin": null,
            "max_height": null,
            "max_width": null,
            "min_height": null,
            "min_width": null,
            "object_fit": null,
            "object_position": null,
            "order": null,
            "overflow": null,
            "overflow_x": null,
            "overflow_y": null,
            "padding": null,
            "right": null,
            "top": null,
            "visibility": null,
            "width": null
          }
        },
        "76aecf15232d4139945bb417f2b07e8e": {
          "model_module": "@jupyter-widgets/base",
          "model_name": "LayoutModel",
          "model_module_version": "1.2.0",
          "state": {
            "_model_module": "@jupyter-widgets/base",
            "_model_module_version": "1.2.0",
            "_model_name": "LayoutModel",
            "_view_count": null,
            "_view_module": "@jupyter-widgets/base",
            "_view_module_version": "1.2.0",
            "_view_name": "LayoutView",
            "align_content": null,
            "align_items": null,
            "align_self": null,
            "border": null,
            "bottom": null,
            "display": null,
            "flex": null,
            "flex_flow": null,
            "grid_area": null,
            "grid_auto_columns": null,
            "grid_auto_flow": null,
            "grid_auto_rows": null,
            "grid_column": null,
            "grid_gap": null,
            "grid_row": null,
            "grid_template_areas": null,
            "grid_template_columns": null,
            "grid_template_rows": null,
            "height": null,
            "justify_content": null,
            "justify_items": null,
            "left": null,
            "margin": null,
            "max_height": null,
            "max_width": null,
            "min_height": null,
            "min_width": null,
            "object_fit": null,
            "object_position": null,
            "order": null,
            "overflow": null,
            "overflow_x": null,
            "overflow_y": null,
            "padding": null,
            "right": null,
            "top": null,
            "visibility": null,
            "width": null
          }
        },
        "d224d70af25b40f9a6afd1bf879509e6": {
          "model_module": "@jupyter-widgets/controls",
          "model_name": "DescriptionStyleModel",
          "model_module_version": "1.5.0",
          "state": {
            "_model_module": "@jupyter-widgets/controls",
            "_model_module_version": "1.5.0",
            "_model_name": "DescriptionStyleModel",
            "_view_count": null,
            "_view_module": "@jupyter-widgets/base",
            "_view_module_version": "1.2.0",
            "_view_name": "StyleView",
            "description_width": ""
          }
        },
        "72d85a131efe415a9297598545c9cf37": {
          "model_module": "@jupyter-widgets/base",
          "model_name": "LayoutModel",
          "model_module_version": "1.2.0",
          "state": {
            "_model_module": "@jupyter-widgets/base",
            "_model_module_version": "1.2.0",
            "_model_name": "LayoutModel",
            "_view_count": null,
            "_view_module": "@jupyter-widgets/base",
            "_view_module_version": "1.2.0",
            "_view_name": "LayoutView",
            "align_content": null,
            "align_items": null,
            "align_self": null,
            "border": null,
            "bottom": null,
            "display": null,
            "flex": null,
            "flex_flow": null,
            "grid_area": null,
            "grid_auto_columns": null,
            "grid_auto_flow": null,
            "grid_auto_rows": null,
            "grid_column": null,
            "grid_gap": null,
            "grid_row": null,
            "grid_template_areas": null,
            "grid_template_columns": null,
            "grid_template_rows": null,
            "height": null,
            "justify_content": null,
            "justify_items": null,
            "left": null,
            "margin": null,
            "max_height": null,
            "max_width": null,
            "min_height": null,
            "min_width": null,
            "object_fit": null,
            "object_position": null,
            "order": null,
            "overflow": null,
            "overflow_x": null,
            "overflow_y": null,
            "padding": null,
            "right": null,
            "top": null,
            "visibility": null,
            "width": null
          }
        },
        "eb888dc83eec434c9f57c63b04dbc1c2": {
          "model_module": "@jupyter-widgets/controls",
          "model_name": "ProgressStyleModel",
          "model_module_version": "1.5.0",
          "state": {
            "_model_module": "@jupyter-widgets/controls",
            "_model_module_version": "1.5.0",
            "_model_name": "ProgressStyleModel",
            "_view_count": null,
            "_view_module": "@jupyter-widgets/base",
            "_view_module_version": "1.2.0",
            "_view_name": "StyleView",
            "bar_color": null,
            "description_width": ""
          }
        },
        "c8e22abfe678446c9cb9b26343fda1cf": {
          "model_module": "@jupyter-widgets/base",
          "model_name": "LayoutModel",
          "model_module_version": "1.2.0",
          "state": {
            "_model_module": "@jupyter-widgets/base",
            "_model_module_version": "1.2.0",
            "_model_name": "LayoutModel",
            "_view_count": null,
            "_view_module": "@jupyter-widgets/base",
            "_view_module_version": "1.2.0",
            "_view_name": "LayoutView",
            "align_content": null,
            "align_items": null,
            "align_self": null,
            "border": null,
            "bottom": null,
            "display": null,
            "flex": null,
            "flex_flow": null,
            "grid_area": null,
            "grid_auto_columns": null,
            "grid_auto_flow": null,
            "grid_auto_rows": null,
            "grid_column": null,
            "grid_gap": null,
            "grid_row": null,
            "grid_template_areas": null,
            "grid_template_columns": null,
            "grid_template_rows": null,
            "height": null,
            "justify_content": null,
            "justify_items": null,
            "left": null,
            "margin": null,
            "max_height": null,
            "max_width": null,
            "min_height": null,
            "min_width": null,
            "object_fit": null,
            "object_position": null,
            "order": null,
            "overflow": null,
            "overflow_x": null,
            "overflow_y": null,
            "padding": null,
            "right": null,
            "top": null,
            "visibility": null,
            "width": null
          }
        },
        "a7afe1077fda4ad892385f31390b3651": {
          "model_module": "@jupyter-widgets/controls",
          "model_name": "DescriptionStyleModel",
          "model_module_version": "1.5.0",
          "state": {
            "_model_module": "@jupyter-widgets/controls",
            "_model_module_version": "1.5.0",
            "_model_name": "DescriptionStyleModel",
            "_view_count": null,
            "_view_module": "@jupyter-widgets/base",
            "_view_module_version": "1.2.0",
            "_view_name": "StyleView",
            "description_width": ""
          }
        },
        "2bc1ff6a05734bc986476be64c0d4e4d": {
          "model_module": "@jupyter-widgets/controls",
          "model_name": "HBoxModel",
          "model_module_version": "1.5.0",
          "state": {
            "_dom_classes": [],
            "_model_module": "@jupyter-widgets/controls",
            "_model_module_version": "1.5.0",
            "_model_name": "HBoxModel",
            "_view_count": null,
            "_view_module": "@jupyter-widgets/controls",
            "_view_module_version": "1.5.0",
            "_view_name": "HBoxView",
            "box_style": "",
            "children": [
              "IPY_MODEL_30864ec5aa064991a6663b464c7047d6",
              "IPY_MODEL_c097c70118c144c49ffa1ec63f61fe0c",
              "IPY_MODEL_8fa06eb07d9b41488fc656d3491d4df3"
            ],
            "layout": "IPY_MODEL_cb70e240ef214197a769368ce90b0ca9"
          }
        },
        "30864ec5aa064991a6663b464c7047d6": {
          "model_module": "@jupyter-widgets/controls",
          "model_name": "HTMLModel",
          "model_module_version": "1.5.0",
          "state": {
            "_dom_classes": [],
            "_model_module": "@jupyter-widgets/controls",
            "_model_module_version": "1.5.0",
            "_model_name": "HTMLModel",
            "_view_count": null,
            "_view_module": "@jupyter-widgets/controls",
            "_view_module_version": "1.5.0",
            "_view_name": "HTMLView",
            "description": "",
            "description_tooltip": null,
            "layout": "IPY_MODEL_e851d82f4a104f07b2e33d863eea775e",
            "placeholder": "​",
            "style": "IPY_MODEL_a6922eaf6644486eb1295a499b5662af",
            "value": "Map (num_proc=2): 100%"
          }
        },
        "c097c70118c144c49ffa1ec63f61fe0c": {
          "model_module": "@jupyter-widgets/controls",
          "model_name": "FloatProgressModel",
          "model_module_version": "1.5.0",
          "state": {
            "_dom_classes": [],
            "_model_module": "@jupyter-widgets/controls",
            "_model_module_version": "1.5.0",
            "_model_name": "FloatProgressModel",
            "_view_count": null,
            "_view_module": "@jupyter-widgets/controls",
            "_view_module_version": "1.5.0",
            "_view_name": "ProgressView",
            "bar_style": "success",
            "description": "",
            "description_tooltip": null,
            "layout": "IPY_MODEL_2479efc399c04446b2cf805f1c27de0d",
            "max": 95,
            "min": 0,
            "orientation": "horizontal",
            "style": "IPY_MODEL_0b7d8ab208c242d583f042fc5942d90b",
            "value": 95
          }
        },
        "8fa06eb07d9b41488fc656d3491d4df3": {
          "model_module": "@jupyter-widgets/controls",
          "model_name": "HTMLModel",
          "model_module_version": "1.5.0",
          "state": {
            "_dom_classes": [],
            "_model_module": "@jupyter-widgets/controls",
            "_model_module_version": "1.5.0",
            "_model_name": "HTMLModel",
            "_view_count": null,
            "_view_module": "@jupyter-widgets/controls",
            "_view_module_version": "1.5.0",
            "_view_name": "HTMLView",
            "description": "",
            "description_tooltip": null,
            "layout": "IPY_MODEL_5016ea48b39345338ef137ed3b597cee",
            "placeholder": "​",
            "style": "IPY_MODEL_e679bb1e4af74b048c9c65f97151a9f4",
            "value": " 95/95 [00:00&lt;00:00, 184.70 examples/s]"
          }
        },
        "cb70e240ef214197a769368ce90b0ca9": {
          "model_module": "@jupyter-widgets/base",
          "model_name": "LayoutModel",
          "model_module_version": "1.2.0",
          "state": {
            "_model_module": "@jupyter-widgets/base",
            "_model_module_version": "1.2.0",
            "_model_name": "LayoutModel",
            "_view_count": null,
            "_view_module": "@jupyter-widgets/base",
            "_view_module_version": "1.2.0",
            "_view_name": "LayoutView",
            "align_content": null,
            "align_items": null,
            "align_self": null,
            "border": null,
            "bottom": null,
            "display": null,
            "flex": null,
            "flex_flow": null,
            "grid_area": null,
            "grid_auto_columns": null,
            "grid_auto_flow": null,
            "grid_auto_rows": null,
            "grid_column": null,
            "grid_gap": null,
            "grid_row": null,
            "grid_template_areas": null,
            "grid_template_columns": null,
            "grid_template_rows": null,
            "height": null,
            "justify_content": null,
            "justify_items": null,
            "left": null,
            "margin": null,
            "max_height": null,
            "max_width": null,
            "min_height": null,
            "min_width": null,
            "object_fit": null,
            "object_position": null,
            "order": null,
            "overflow": null,
            "overflow_x": null,
            "overflow_y": null,
            "padding": null,
            "right": null,
            "top": null,
            "visibility": null,
            "width": null
          }
        },
        "e851d82f4a104f07b2e33d863eea775e": {
          "model_module": "@jupyter-widgets/base",
          "model_name": "LayoutModel",
          "model_module_version": "1.2.0",
          "state": {
            "_model_module": "@jupyter-widgets/base",
            "_model_module_version": "1.2.0",
            "_model_name": "LayoutModel",
            "_view_count": null,
            "_view_module": "@jupyter-widgets/base",
            "_view_module_version": "1.2.0",
            "_view_name": "LayoutView",
            "align_content": null,
            "align_items": null,
            "align_self": null,
            "border": null,
            "bottom": null,
            "display": null,
            "flex": null,
            "flex_flow": null,
            "grid_area": null,
            "grid_auto_columns": null,
            "grid_auto_flow": null,
            "grid_auto_rows": null,
            "grid_column": null,
            "grid_gap": null,
            "grid_row": null,
            "grid_template_areas": null,
            "grid_template_columns": null,
            "grid_template_rows": null,
            "height": null,
            "justify_content": null,
            "justify_items": null,
            "left": null,
            "margin": null,
            "max_height": null,
            "max_width": null,
            "min_height": null,
            "min_width": null,
            "object_fit": null,
            "object_position": null,
            "order": null,
            "overflow": null,
            "overflow_x": null,
            "overflow_y": null,
            "padding": null,
            "right": null,
            "top": null,
            "visibility": null,
            "width": null
          }
        },
        "a6922eaf6644486eb1295a499b5662af": {
          "model_module": "@jupyter-widgets/controls",
          "model_name": "DescriptionStyleModel",
          "model_module_version": "1.5.0",
          "state": {
            "_model_module": "@jupyter-widgets/controls",
            "_model_module_version": "1.5.0",
            "_model_name": "DescriptionStyleModel",
            "_view_count": null,
            "_view_module": "@jupyter-widgets/base",
            "_view_module_version": "1.2.0",
            "_view_name": "StyleView",
            "description_width": ""
          }
        },
        "2479efc399c04446b2cf805f1c27de0d": {
          "model_module": "@jupyter-widgets/base",
          "model_name": "LayoutModel",
          "model_module_version": "1.2.0",
          "state": {
            "_model_module": "@jupyter-widgets/base",
            "_model_module_version": "1.2.0",
            "_model_name": "LayoutModel",
            "_view_count": null,
            "_view_module": "@jupyter-widgets/base",
            "_view_module_version": "1.2.0",
            "_view_name": "LayoutView",
            "align_content": null,
            "align_items": null,
            "align_self": null,
            "border": null,
            "bottom": null,
            "display": null,
            "flex": null,
            "flex_flow": null,
            "grid_area": null,
            "grid_auto_columns": null,
            "grid_auto_flow": null,
            "grid_auto_rows": null,
            "grid_column": null,
            "grid_gap": null,
            "grid_row": null,
            "grid_template_areas": null,
            "grid_template_columns": null,
            "grid_template_rows": null,
            "height": null,
            "justify_content": null,
            "justify_items": null,
            "left": null,
            "margin": null,
            "max_height": null,
            "max_width": null,
            "min_height": null,
            "min_width": null,
            "object_fit": null,
            "object_position": null,
            "order": null,
            "overflow": null,
            "overflow_x": null,
            "overflow_y": null,
            "padding": null,
            "right": null,
            "top": null,
            "visibility": null,
            "width": null
          }
        },
        "0b7d8ab208c242d583f042fc5942d90b": {
          "model_module": "@jupyter-widgets/controls",
          "model_name": "ProgressStyleModel",
          "model_module_version": "1.5.0",
          "state": {
            "_model_module": "@jupyter-widgets/controls",
            "_model_module_version": "1.5.0",
            "_model_name": "ProgressStyleModel",
            "_view_count": null,
            "_view_module": "@jupyter-widgets/base",
            "_view_module_version": "1.2.0",
            "_view_name": "StyleView",
            "bar_color": null,
            "description_width": ""
          }
        },
        "5016ea48b39345338ef137ed3b597cee": {
          "model_module": "@jupyter-widgets/base",
          "model_name": "LayoutModel",
          "model_module_version": "1.2.0",
          "state": {
            "_model_module": "@jupyter-widgets/base",
            "_model_module_version": "1.2.0",
            "_model_name": "LayoutModel",
            "_view_count": null,
            "_view_module": "@jupyter-widgets/base",
            "_view_module_version": "1.2.0",
            "_view_name": "LayoutView",
            "align_content": null,
            "align_items": null,
            "align_self": null,
            "border": null,
            "bottom": null,
            "display": null,
            "flex": null,
            "flex_flow": null,
            "grid_area": null,
            "grid_auto_columns": null,
            "grid_auto_flow": null,
            "grid_auto_rows": null,
            "grid_column": null,
            "grid_gap": null,
            "grid_row": null,
            "grid_template_areas": null,
            "grid_template_columns": null,
            "grid_template_rows": null,
            "height": null,
            "justify_content": null,
            "justify_items": null,
            "left": null,
            "margin": null,
            "max_height": null,
            "max_width": null,
            "min_height": null,
            "min_width": null,
            "object_fit": null,
            "object_position": null,
            "order": null,
            "overflow": null,
            "overflow_x": null,
            "overflow_y": null,
            "padding": null,
            "right": null,
            "top": null,
            "visibility": null,
            "width": null
          }
        },
        "e679bb1e4af74b048c9c65f97151a9f4": {
          "model_module": "@jupyter-widgets/controls",
          "model_name": "DescriptionStyleModel",
          "model_module_version": "1.5.0",
          "state": {
            "_model_module": "@jupyter-widgets/controls",
            "_model_module_version": "1.5.0",
            "_model_name": "DescriptionStyleModel",
            "_view_count": null,
            "_view_module": "@jupyter-widgets/base",
            "_view_module_version": "1.2.0",
            "_view_name": "StyleView",
            "description_width": ""
          }
        }
      }
    }
  },
  "nbformat": 4,
  "nbformat_minor": 0
}